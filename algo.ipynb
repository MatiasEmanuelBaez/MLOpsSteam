{
 "cells": [
  {
   "cell_type": "code",
   "execution_count": 2,
   "metadata": {},
   "outputs": [
    {
     "ename": "NameError",
     "evalue": "name 'fila' is not defined",
     "output_type": "error",
     "traceback": [
      "\u001b[1;31m---------------------------------------------------------------------------\u001b[0m",
      "\u001b[1;31mNameError\u001b[0m                                 Traceback (most recent call last)",
      "\u001b[1;32mc:\\Users\\Matias\\Desktop\\Integrador uno\\MLOpsSteam\\algo.ipynb Celda 1\u001b[0m line \u001b[0;36m1\n\u001b[0;32m     <a href='vscode-notebook-cell:/c%3A/Users/Matias/Desktop/Integrador%20uno/MLOpsSteam/algo.ipynb#W0sZmlsZQ%3D%3D?line=14'>15</a>\u001b[0m tres \u001b[39m=\u001b[39m \u001b[39m0\u001b[39m\n\u001b[0;32m     <a href='vscode-notebook-cell:/c%3A/Users/Matias/Desktop/Integrador%20uno/MLOpsSteam/algo.ipynb#W0sZmlsZQ%3D%3D?line=16'>17</a>\u001b[0m x \u001b[39m=\u001b[39m \u001b[39m0\u001b[39m\n\u001b[1;32m---> <a href='vscode-notebook-cell:/c%3A/Users/Matias/Desktop/Integrador%20uno/MLOpsSteam/algo.ipynb#W0sZmlsZQ%3D%3D?line=17'>18</a>\u001b[0m x \u001b[39m==\u001b[39m fila[\u001b[39m4\u001b[39m]\u001b[39m+\u001b[39mfila[\u001b[39m5\u001b[39m]\n\u001b[0;32m     <a href='vscode-notebook-cell:/c%3A/Users/Matias/Desktop/Integrador%20uno/MLOpsSteam/algo.ipynb#W0sZmlsZQ%3D%3D?line=19'>20</a>\u001b[0m \u001b[39mfor\u001b[39;00m fila \u001b[39min\u001b[39;00m reader:\n\u001b[0;32m     <a href='vscode-notebook-cell:/c%3A/Users/Matias/Desktop/Integrador%20uno/MLOpsSteam/algo.ipynb#W0sZmlsZQ%3D%3D?line=20'>21</a>\u001b[0m     \u001b[39mif\u001b[39;00m anio \u001b[39m==\u001b[39m fila[\u001b[39m2\u001b[39m]:\n",
      "\u001b[1;31mNameError\u001b[0m: name 'fila' is not defined"
     ]
    }
   ],
   "source": [
    "import csv\n",
    "\n",
    "with open('Desarrollo/Resultados/TConsulta.csv', newline='') as File:\n",
    "    reader = csv.reader(File)\n",
    "    \n",
    "    encontrar=0\n",
    "    \n",
    "    puestoU = \"\"\n",
    "    uno = 0\n",
    "    \n",
    "    puestoD = \"\"\n",
    "    dos = 0\n",
    "    \n",
    "    puestoT = \"\"\n",
    "    tres = 0\n",
    "    \n",
    "    x = 0\n",
    "    x == fila[4]+fila[5]\n",
    "    \n",
    "    for fila in reader:\n",
    "        if anio == fila[2]:\n",
    "            if fila[1] == True:\n",
    "                encontrar = 1\n",
    "                if uno == 0:\n",
    "                    uno == x\n",
    "                    puestoU == fila[3]\n",
    "                else:\n",
    "                    if x > uno:\n",
    "                        tres == dos\n",
    "                        puestoT == puestoD\n",
    "                        dos == uno\n",
    "                        puestoD == puestoU\n",
    "                        uno == x\n",
    "                        puestoU == fila[3]\n",
    "                    else:\n",
    "                        if x > dos:\n",
    "                            tres == dos\n",
    "                            puestoT == puestoD\n",
    "                            dos == x\n",
    "                            puestoD == fila[3]\n",
    "                        else:\n",
    "                            if x > tres:\n",
    "                                tres == x\n",
    "                                puestoT == fila[3]\n",
    "\n",
    "if encontrar == 1:\n",
    "    print (\"Puesto 1: \", puestoU, \"- Puesto 2: \", puestoD, \"- Puesto 3: \", puestoT)  \n",
    "else:\n",
    "    print (\"No se encontraron recomendaciones positivas para el año ingresado.\")"
   ]
  }
 ],
 "metadata": {
  "kernelspec": {
   "display_name": "Python 3",
   "language": "python",
   "name": "python3"
  },
  "language_info": {
   "codemirror_mode": {
    "name": "ipython",
    "version": 3
   },
   "file_extension": ".py",
   "mimetype": "text/x-python",
   "name": "python",
   "nbconvert_exporter": "python",
   "pygments_lexer": "ipython3",
   "version": "3.11.3"
  }
 },
 "nbformat": 4,
 "nbformat_minor": 2
}
