{
 "cells": [
  {
   "cell_type": "code",
   "execution_count": 6,
   "metadata": {},
   "outputs": [
    {
     "name": "stdout",
     "output_type": "stream",
     "text": [
      "Puesto 1:  440 - Puesto 2:  1250 - Puesto 3:  630\n"
     ]
    }
   ],
   "source": [
    "import csv\n",
    "\n",
    "with open('Desarrollo/Resultados/TConsulta.csv', newline='') as File:\n",
    "    reader = csv.reader(File, delimiter=',')\n",
    "    \n",
    "    encontrar=0\n",
    "    \n",
    "    puestoU = \"\"\n",
    "    uno = 0\n",
    "    \n",
    "    puestoD = \"\"\n",
    "    dos = 0\n",
    "    \n",
    "    puestoT = \"\"\n",
    "    tres = 0\n",
    "    \n",
    "    x = 0\n",
    "        \n",
    "    for fila in reader:\n",
    "        \n",
    "        if  fila[4].isnumeric():\n",
    "        \n",
    "            x = int(fila[4]) + int(fila[5])\n",
    "            \n",
    "            if 2010 == int(fila[2]):\n",
    "                if fila[1] == \"True\":                    \n",
    "                    encontrar = 1\n",
    "                    if uno == 0:\n",
    "                        uno = x\n",
    "                        puestoU = fila[3]\n",
    "                    else:\n",
    "                        if int(x) > int(uno):\n",
    "                            tres = dos\n",
    "                            puestoT = puestoD\n",
    "                            dos = uno\n",
    "                            puestoD = puestoU\n",
    "                            uno = x\n",
    "                            puestoU = fila[3]\n",
    "                        else:\n",
    "                            if int(x) > int(dos):\n",
    "                                tres = dos\n",
    "                                puestoT = puestoD\n",
    "                                dos = x\n",
    "                                puestoD = fila[3]\n",
    "                            else:\n",
    "                                if int(x) > int(tres):\n",
    "                                    tres = x\n",
    "                                    puestoT = fila[3]\n",
    "\n",
    "if encontrar == 1:\n",
    "    print (\"Puesto 1: \", puestoU, \"- Puesto 2: \", puestoD, \"- Puesto 3: \", puestoT)  \n",
    "else:\n",
    "    print (\"No se encontraron recomendaciones positivas para el año ingresado.\")"
   ]
  },
  {
   "cell_type": "code",
   "execution_count": null,
   "metadata": {},
   "outputs": [],
   "source": []
  }
 ],
 "metadata": {
  "kernelspec": {
   "display_name": "Python 3",
   "language": "python",
   "name": "python3"
  },
  "language_info": {
   "codemirror_mode": {
    "name": "ipython",
    "version": 3
   },
   "file_extension": ".py",
   "mimetype": "text/x-python",
   "name": "python",
   "nbconvert_exporter": "python",
   "pygments_lexer": "ipython3",
   "version": "3.11.3"
  }
 },
 "nbformat": 4,
 "nbformat_minor": 2
}
