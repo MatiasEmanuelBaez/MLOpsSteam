{
 "cells": [
  {
   "cell_type": "code",
   "execution_count": 2,
   "metadata": {},
   "outputs": [
    {
     "name": "stdout",
     "output_type": "stream",
     "text": [
      "Género no encontrado\n"
     ]
    }
   ],
   "source": [
    "import csv\n",
    "\n",
    "with open('Desarrollo/Resultados/SConsulta.csv', newline='') as File:\n",
    "        reader = csv.reader(File)\n",
    "        encontrar=0\n",
    "        for fila in reader:\n",
    "            if 'Action' == fila[3]:\n",
    "                \n",
    "                \n",
    "                \n",
    "                \n",
    "                \n",
    "                \n",
    "                \n",
    "                \n",
    "                print (\"Año de lanzamiento con más horas jugadas para Género\",fila[1] ,\":\", fila[2])\n",
    "                encontrar=1\n",
    "                exit\n",
    "        \n",
    "        if encontrar == 0:\n",
    "            print(\"Género no encontrado\")"
   ]
  }
 ],
 "metadata": {
  "kernelspec": {
   "display_name": "Python 3",
   "language": "python",
   "name": "python3"
  },
  "language_info": {
   "codemirror_mode": {
    "name": "ipython",
    "version": 3
   },
   "file_extension": ".py",
   "mimetype": "text/x-python",
   "name": "python",
   "nbconvert_exporter": "python",
   "pygments_lexer": "ipython3",
   "version": "3.11.3"
  }
 },
 "nbformat": 4,
 "nbformat_minor": 2
}
